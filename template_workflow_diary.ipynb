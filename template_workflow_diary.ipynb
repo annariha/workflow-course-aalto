{
  "cells": [
    {
      "cell_type": "markdown",
      "metadata": {
        "id": "fLGxgfuOnxQ_"
      },
      "source": [
        "# Workflow Diary\n",
        "\n",
        "## Getting Started\n",
        "\n",
        "### How to use this template\n",
        "\n",
        "This workflow diary template will be used for you to record your experiences, attempts, and results while you apply the Bayesian workflow steps during each week of the seminar. Each section of the template corresponds to a step in the workflow that you will applying, specifies a suggested minimum 'goal' that you should aim to complete. How you decide to implement the workflow steps and achieve these goals is completely up to you.\n",
        "\n",
        "There are no 'wrong' answers here, and you are not being graded on whether you implement the workflow steps 'correctly'. This diary should be record of your learning and experience with each workflow step, and will evolve as you learn more about the Bayesian workflow. If there are any issues or questions that you have, please record them in the diary so that we can discuss them during the in-person seminar sessions.\n",
        "\n",
        "Remember that you should be able to re-run, modify, or extend any of your code if requested during the interactive presentations.\n",
        "\n",
        "### Setting up your Environment\n",
        "\n",
        "There are a number of packages that you will need throughout this course. If you have any issues completing the setup steps below, please let us know."
      ]
    },
    {
      "cell_type": "markdown",
      "metadata": {
        "id": "_DalpUXToKjf"
      },
      "source": [
        "#### Stan: `cmdstanr`, `cmdstanr`, and `brms`\n",
        "\n",
        "For estimating Bayesian models in R, we recommend the `cmdstanr` package. You should be familiar with this if you have previously completed BDA. You can install `cmdstanr`, if it is not already installed, by running the following (this might take a few minutes):\n"
      ]
    },
    {
      "cell_type": "code",
      "execution_count": null,
      "metadata": {
        "vscode": {
          "languageId": "r"
        }
      },
      "outputs": [],
      "source": [
        "# The 'cmdstanr' package is not available on CRAN, so you will need to install it from GitHub:\n",
        "if (!requireNamespace(\"remotes\", quietly = TRUE)) {\n",
        "  install.packages(\"remotes\")\n",
        "}\n",
        "if (!requireNamespace(\"cmdstanr\", quietly = TRUE)) {\n",
        "  remotes::install_github(\"stan-dev/cmdstanr\")\n",
        "}"
      ]
    },
    {
      "cell_type": "markdown",
      "metadata": {
        "id": "dSu2ubTOoNm2"
      },
      "source": [
        "The `cmdstanr` package is simply a wrapper/interface for the CmdStan command-line interface to Stan, which also needs to be installed."
      ]
    },
    {
      "cell_type": "code",
      "execution_count": null,
      "metadata": {
        "colab": {
          "base_uri": "https://localhost:8080/",
          "height": 34
        },
        "id": "HqGFbLASsCk_",
        "outputId": "e17db8d4-286c-4163-afb0-34caad60fe34",
        "vscode": {
          "languageId": "r"
        }
      },
      "outputs": [],
      "source": [
        "curr_ver <- cmdstanr::cmdstan_version(error_on_NA = FALSE)\n",
        "if (is.null(curr_ver) || curr_ver < cmdstanr:::latest_released_version()) {\n",
        "  cmdstanr::check_cmdstan_toolchain(fix = TRUE)\n",
        "  cmdstanr::install_cmdstan()\n",
        "}\n",
        "rm(curr_ver)"
      ]
    },
    {
      "cell_type": "markdown",
      "metadata": {
        "id": "lKYrtX-Ix5H6"
      },
      "source": [
        "A more user-friendly interface to `cmdstanr` is the `brms` package, which provides a formula-based interface to specify Bayesian models. You can install `brms` by running:\n"
      ]
    },
    {
      "cell_type": "code",
      "execution_count": null,
      "metadata": {
        "colab": {
          "base_uri": "https://localhost:8080/"
        },
        "id": "z8SIPzxVx7dS",
        "outputId": "14d94121-27d8-4dc9-fa4f-53b6f164ab8a",
        "vscode": {
          "languageId": "r"
        }
      },
      "outputs": [],
      "source": [
        "if (!requireNamespace(\"brms\", quietly = TRUE)) {\n",
        "  install.packages(\"brms\")\n",
        "}"
      ]
    },
    {
      "cell_type": "markdown",
      "metadata": {
        "id": "Ml4A7bdyyV75"
      },
      "source": [
        "#### Post-Processing and Diagnostics\n",
        "\n",
        "There are also some packages that you are likely to find useful for post-processing and diagnosing your models. These include `bayesplot`, `posterior`, `loo`, and `priorsense`. You can install these by running the following:\n"
      ]
    },
    {
      "cell_type": "code",
      "execution_count": null,
      "metadata": {
        "colab": {
          "base_uri": "https://localhost:8080/"
        },
        "id": "DNA4xx7AyYW_",
        "outputId": "295d4141-14a5-429e-f166-4b9f28650218",
        "vscode": {
          "languageId": "r"
        }
      },
      "outputs": [],
      "source": [
        "\n",
        "# The 'priorsense' package is not available on CRAN, so you will need to install it from GitHub:\n",
        "if (!requireNamespace(\"priorsense\", quietly = TRUE)) {\n",
        "  remotes::install_github(\"n-kall/priorsense\")\n",
        "}"
      ]
    },
    {
      "cell_type": "markdown",
      "metadata": {
        "id": "c4UKdbb_zKn_"
      },
      "source": [
        "## Bayesian Workflow\n",
        "\n",
        "### Loading Data and Preprocessing\n",
        "\n",
        "Use this section of the diary for loading your dataset of choice and performing any necessary preprocessing. This could include cleaning the data, transforming variables, or creating new variables. Remember that you should be able to re-run or modify this code if needed during the interactive presentations.\n"
      ]
    },
    {
      "cell_type": "code",
      "execution_count": null,
      "metadata": {
        "id": "ujuMZDDQzNPP",
        "vscode": {
          "languageId": "r"
        }
      },
      "outputs": [],
      "source": []
    },
    {
      "cell_type": "markdown",
      "metadata": {
        "id": "Vzm4Q1YnzN3X"
      },
      "source": [
        "### Week 1: Exploratory Data Analysis and Choosing a Research Question\n",
        "\n",
        "#### Goal\n",
        "\n",
        "After this week, you should have:\n",
        "\n",
        " - Decided on your research question\n",
        " - Conducted some exploratory data analysis to understand your data\n",
        " - Used the results of the analysis to propose an initial model for answering your research question\n",
        "\n",
        "\n",
        "#### Code and Results"
      ]
    },
    {
      "cell_type": "code",
      "execution_count": null,
      "metadata": {
        "id": "y5yS2KegzPz3",
        "vscode": {
          "languageId": "r"
        }
      },
      "outputs": [],
      "source": []
    },
    {
      "cell_type": "markdown",
      "metadata": {
        "id": "JweJKJAozQTw"
      },
      "source": [
        "### Week 2: Prior Choice\n",
        "\n",
        "#### Goal\n",
        "\n",
        "After this week, you should have:\n",
        "\n",
        " - Proposed priors for each parameter in your model, with justification\n",
        " - Performed a prior predictive check to ensure that your priors are reasonable\n",
        "\n",
        "\n",
        "#### Code and Results"
      ]
    },
    {
      "cell_type": "code",
      "execution_count": null,
      "metadata": {
        "id": "1axB5xg-zSK_",
        "vscode": {
          "languageId": "r"
        }
      },
      "outputs": [],
      "source": []
    },
    {
      "cell_type": "markdown",
      "metadata": {
        "id": "v1rCh9AAzSdu"
      },
      "source": [
        "### Week 3: Model Fitting and Checking\n",
        "\n",
        "#### Goal\n",
        "\n",
        "After this week, you should have:\n",
        "\n",
        " - Fitted your model with chosen priors to your data\n",
        " - Performed diagnostic checks for quality/stability of fitting\n",
        " - Performed prior sensitivity assessment to ensure that your results are not driven by your choice of priors\n",
        " - Performed predictive performance assessment\n",
        "\n",
        "\n",
        "#### Code and Results"
      ]
    },
    {
      "cell_type": "code",
      "execution_count": null,
      "metadata": {
        "id": "UdcSliYfzVD7",
        "vscode": {
          "languageId": "r"
        }
      },
      "outputs": [],
      "source": []
    },
    {
      "cell_type": "markdown",
      "metadata": {
        "id": "C-hNf5S3zV4i"
      },
      "source": [
        "### Week 4: Extending Models and Model Selection\n",
        "\n",
        "#### Goal\n",
        "\n",
        "After this week, you should have:\n",
        "\n",
        " - Decided on whether a model expansion or selection approach is relevant for your research question, with justification\n",
        " - Proposed a second model (or an expansion to the first), building on the issues/diagnostics/concepts from previous weeks\n",
        "\n",
        "\n",
        "#### Code and Results"
      ]
    },
    {
      "cell_type": "code",
      "execution_count": null,
      "metadata": {
        "id": "JXdYc7nwzY8W",
        "vscode": {
          "languageId": "r"
        }
      },
      "outputs": [],
      "source": []
    },
    {
      "cell_type": "markdown",
      "metadata": {
        "id": "Hw-HG_i5zX9W"
      },
      "source": [
        "### Week 5: Interpreting and Presenting Model Results\n",
        "\n",
        "#### Goal\n",
        "\n",
        "After this week, you should have:\n",
        "\n",
        " - Prepared a concise summary of your results and how they answer your research question\n",
        " - Prepared a visualisation of your results that is suitable for presentation to a non-technical audience\n",
        "\n",
        "\n",
        "#### Code and Results\n"
      ]
    },
    {
      "cell_type": "code",
      "execution_count": null,
      "metadata": {
        "id": "ad-oxhAMzbW2",
        "vscode": {
          "languageId": "r"
        }
      },
      "outputs": [],
      "source": []
    },
    {
      "cell_type": "markdown",
      "metadata": {
        "id": "2UWH9coFzbrU"
      },
      "source": [
        "\n",
        "### Week 6: Reflection and Future Work\n",
        "\n",
        "#### Goal\n",
        "\n",
        "After this week, you should have:\n",
        "\n",
        " - Reflected on your experiences with the Bayesian workflow\n",
        " - Proposed future work or extensions to your research question\n",
        "\n",
        "#### Reflections and Notes"
      ]
    }
  ],
  "metadata": {
    "colab": {
      "provenance": []
    },
    "kernelspec": {
      "display_name": "R",
      "name": "ir"
    },
    "language_info": {
      "name": "R"
    }
  },
  "nbformat": 4,
  "nbformat_minor": 0
}
